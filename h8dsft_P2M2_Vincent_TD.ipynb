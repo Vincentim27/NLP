{
 "cells": [
  {
   "cell_type": "markdown",
   "metadata": {},
   "source": [
    "# Milestones 2 Phase 2"
   ]
  },
  {
   "cell_type": "markdown",
   "metadata": {},
   "source": [
    "# i. Introduction"
   ]
  },
  {
   "cell_type": "markdown",
   "metadata": {},
   "source": [
    "Nama : Vincent Timothy Djaja\n",
    "\n",
    "Batch : RMT-017\n",
    "\n",
    "Dataset : complaints_processed\n",
    "\n",
    "Objective : The Consumer Financial Protection Bureau (CFPB) is a federal U.S. agency that acts as a mediator when disputes arise between financial institutions and consumers. Via a web form, consumers can send the agency a narrative of their dispute. I make an NLP model to make the classification of complaints using deep learning-fully connected layer and LSTM, thus they could routing it to the appropriate teams more efficient than manually tagged complaints."
   ]
  },
  {
   "cell_type": "markdown",
   "metadata": {},
   "source": [
    "`WARNING` **!**\n",
    "\n",
    "`This project used undersampling data method to balancing the target, so running all again might be change the result (also the analysis have been made in markdown).`"
   ]
  },
  {
   "cell_type": "markdown",
   "metadata": {},
   "source": [
    "# ii. Import Libraries"
   ]
  },
  {
   "cell_type": "code",
   "execution_count": 71,
   "metadata": {},
   "outputs": [
    {
     "name": "stderr",
     "output_type": "stream",
     "text": [
      "[nltk_data] Downloading package punkt to\n",
      "[nltk_data]     C:\\Users\\Admin\\AppData\\Roaming\\nltk_data...\n",
      "[nltk_data]   Package punkt is already up-to-date!\n",
      "[nltk_data] Downloading package stopwords to\n",
      "[nltk_data]     C:\\Users\\Admin\\AppData\\Roaming\\nltk_data...\n",
      "[nltk_data]   Package stopwords is already up-to-date!\n"
     ]
    }
   ],
   "source": [
    "# Import library for this project\n",
    "import pandas as pd # Pandas\n",
    "import numpy as np # Numpy\n",
    "import matplotlib.pyplot as plt # Visualization\n",
    "from wordcloud import WordCloud,ImageColorGenerator # Wordcloud for EDA\n",
    "from PIL import Image\n",
    "import nltk # Import NLTK\n",
    "nltk.download('punkt') # Download punctuatuion\n",
    "nltk.download('stopwords') # Download stopwords\n",
    "from nltk.corpus import stopwords # Feature selection\n",
    "from nltk.tokenize import word_tokenize # Tokenizing\n",
    "from nltk.stem import PorterStemmer # Stemming\n",
    "import tensorflow as tf # Tensorflow\n",
    "from sklearn.model_selection import train_test_split # Split train set and test set\n",
    "from sklearn.feature_extraction.text import CountVectorizer # countvectorizer\n",
    "from tensorflow.keras.layers import TextVectorization, Embedding # TextVectorization and Embedding\n",
    "from tensorflow.keras.utils import to_categorical # Convert target to one hot encoding\n",
    "from tensorflow.keras.layers import Dense, GlobalAveragePooling1D, Input, Dropout, LSTM # Layers\n",
    "from tensorflow.keras.models import Model, Sequential # Modelling\n",
    "import warnings # Ignore error message \n",
    "warnings.filterwarnings(\"ignore\") # Ignore error message"
   ]
  },
  {
   "cell_type": "markdown",
   "metadata": {},
   "source": [
    "# iii. Data Loading"
   ]
  },
  {
   "cell_type": "markdown",
   "metadata": {},
   "source": [
    "First thing first, let's import dataset but only 10,000 data due to my limitation of computer's memory. Then duplicate original dataset, and showing head and tail of dataset."
   ]
  },
  {
   "cell_type": "code",
   "execution_count": 2,
   "metadata": {},
   "outputs": [
    {
     "data": {
      "text/html": [
       "<div>\n",
       "<style scoped>\n",
       "    .dataframe tbody tr th:only-of-type {\n",
       "        vertical-align: middle;\n",
       "    }\n",
       "\n",
       "    .dataframe tbody tr th {\n",
       "        vertical-align: top;\n",
       "    }\n",
       "\n",
       "    .dataframe thead th {\n",
       "        text-align: right;\n",
       "    }\n",
       "</style>\n",
       "<table border=\"1\" class=\"dataframe\">\n",
       "  <thead>\n",
       "    <tr style=\"text-align: right;\">\n",
       "      <th></th>\n",
       "      <th>Unnamed: 0</th>\n",
       "      <th>product</th>\n",
       "      <th>narrative</th>\n",
       "    </tr>\n",
       "  </thead>\n",
       "  <tbody>\n",
       "    <tr>\n",
       "      <th>0</th>\n",
       "      <td>0</td>\n",
       "      <td>credit_card</td>\n",
       "      <td>purchase order day shipping amount receive pro...</td>\n",
       "    </tr>\n",
       "    <tr>\n",
       "      <th>1</th>\n",
       "      <td>1</td>\n",
       "      <td>credit_card</td>\n",
       "      <td>forwarded message date tue subject please inve...</td>\n",
       "    </tr>\n",
       "    <tr>\n",
       "      <th>2</th>\n",
       "      <td>2</td>\n",
       "      <td>retail_banking</td>\n",
       "      <td>forwarded message cc sent friday pdt subject f...</td>\n",
       "    </tr>\n",
       "    <tr>\n",
       "      <th>3</th>\n",
       "      <td>3</td>\n",
       "      <td>credit_reporting</td>\n",
       "      <td>payment history missing credit report speciali...</td>\n",
       "    </tr>\n",
       "    <tr>\n",
       "      <th>4</th>\n",
       "      <td>4</td>\n",
       "      <td>credit_reporting</td>\n",
       "      <td>payment history missing credit report made mis...</td>\n",
       "    </tr>\n",
       "  </tbody>\n",
       "</table>\n",
       "</div>"
      ],
      "text/plain": [
       "   Unnamed: 0           product  \\\n",
       "0           0       credit_card   \n",
       "1           1       credit_card   \n",
       "2           2    retail_banking   \n",
       "3           3  credit_reporting   \n",
       "4           4  credit_reporting   \n",
       "\n",
       "                                           narrative  \n",
       "0  purchase order day shipping amount receive pro...  \n",
       "1  forwarded message date tue subject please inve...  \n",
       "2  forwarded message cc sent friday pdt subject f...  \n",
       "3  payment history missing credit report speciali...  \n",
       "4  payment history missing credit report made mis...  "
      ]
     },
     "execution_count": 2,
     "metadata": {},
     "output_type": "execute_result"
    }
   ],
   "source": [
    "# Import dataset\n",
    "df_ori = pd.read_csv('complaints_processed.csv').iloc[:10000]\n",
    "\n",
    "# Duplicat dataset\n",
    "df = df_ori.copy()\n",
    "\n",
    "# Show head\n",
    "df.head()"
   ]
  },
  {
   "cell_type": "markdown",
   "metadata": {},
   "source": [
    "Checking random data to make sure unnamed is equal to index and see the narrative to make sure there is no punctuation and number also all of them already in lowercase."
   ]
  },
  {
   "cell_type": "code",
   "execution_count": 3,
   "metadata": {},
   "outputs": [
    {
     "data": {
      "text/html": [
       "<div>\n",
       "<style scoped>\n",
       "    .dataframe tbody tr th:only-of-type {\n",
       "        vertical-align: middle;\n",
       "    }\n",
       "\n",
       "    .dataframe tbody tr th {\n",
       "        vertical-align: top;\n",
       "    }\n",
       "\n",
       "    .dataframe thead th {\n",
       "        text-align: right;\n",
       "    }\n",
       "</style>\n",
       "<table border=\"1\" class=\"dataframe\">\n",
       "  <thead>\n",
       "    <tr style=\"text-align: right;\">\n",
       "      <th></th>\n",
       "      <th>Unnamed: 0</th>\n",
       "      <th>product</th>\n",
       "      <th>narrative</th>\n",
       "    </tr>\n",
       "  </thead>\n",
       "  <tbody>\n",
       "    <tr>\n",
       "      <th>2884</th>\n",
       "      <td>2884</td>\n",
       "      <td>credit_reporting</td>\n",
       "      <td>account ending reporting reporting twice repor...</td>\n",
       "    </tr>\n",
       "    <tr>\n",
       "      <th>6702</th>\n",
       "      <td>6702</td>\n",
       "      <td>mortgages_and_loans</td>\n",
       "      <td>initial application taken bank america residen...</td>\n",
       "    </tr>\n",
       "    <tr>\n",
       "      <th>2646</th>\n",
       "      <td>2646</td>\n",
       "      <td>debt_collection</td>\n",
       "      <td>according credit report following portfolio re...</td>\n",
       "    </tr>\n",
       "    <tr>\n",
       "      <th>8698</th>\n",
       "      <td>8698</td>\n",
       "      <td>mortgages_and_loans</td>\n",
       "      <td>bank account frozen</td>\n",
       "    </tr>\n",
       "    <tr>\n",
       "      <th>2258</th>\n",
       "      <td>2258</td>\n",
       "      <td>credit_reporting</td>\n",
       "      <td>unauthorized student loan reporting credit rep...</td>\n",
       "    </tr>\n",
       "    <tr>\n",
       "      <th>...</th>\n",
       "      <td>...</td>\n",
       "      <td>...</td>\n",
       "      <td>...</td>\n",
       "    </tr>\n",
       "    <tr>\n",
       "      <th>452</th>\n",
       "      <td>452</td>\n",
       "      <td>retail_banking</td>\n",
       "      <td>related ftc chase blocked complaintants access...</td>\n",
       "    </tr>\n",
       "    <tr>\n",
       "      <th>8608</th>\n",
       "      <td>8608</td>\n",
       "      <td>debt_collection</td>\n",
       "      <td>back information stollen car needed get mortga...</td>\n",
       "    </tr>\n",
       "    <tr>\n",
       "      <th>2933</th>\n",
       "      <td>2933</td>\n",
       "      <td>credit_reporting</td>\n",
       "      <td>account info reference number bankruptcy court...</td>\n",
       "    </tr>\n",
       "    <tr>\n",
       "      <th>9711</th>\n",
       "      <td>9711</td>\n",
       "      <td>retail_banking</td>\n",
       "      <td>stimulus check sent account mine chase bank to...</td>\n",
       "    </tr>\n",
       "    <tr>\n",
       "      <th>316</th>\n",
       "      <td>316</td>\n",
       "      <td>credit_reporting</td>\n",
       "      <td>blockexcept otherwise provided section consume...</td>\n",
       "    </tr>\n",
       "  </tbody>\n",
       "</table>\n",
       "<p>10000 rows × 3 columns</p>\n",
       "</div>"
      ],
      "text/plain": [
       "      Unnamed: 0              product  \\\n",
       "2884        2884     credit_reporting   \n",
       "6702        6702  mortgages_and_loans   \n",
       "2646        2646      debt_collection   \n",
       "8698        8698  mortgages_and_loans   \n",
       "2258        2258     credit_reporting   \n",
       "...          ...                  ...   \n",
       "452          452       retail_banking   \n",
       "8608        8608      debt_collection   \n",
       "2933        2933     credit_reporting   \n",
       "9711        9711       retail_banking   \n",
       "316          316     credit_reporting   \n",
       "\n",
       "                                              narrative  \n",
       "2884  account ending reporting reporting twice repor...  \n",
       "6702  initial application taken bank america residen...  \n",
       "2646  according credit report following portfolio re...  \n",
       "8698                                bank account frozen  \n",
       "2258  unauthorized student loan reporting credit rep...  \n",
       "...                                                 ...  \n",
       "452   related ftc chase blocked complaintants access...  \n",
       "8608  back information stollen car needed get mortga...  \n",
       "2933  account info reference number bankruptcy court...  \n",
       "9711  stimulus check sent account mine chase bank to...  \n",
       "316   blockexcept otherwise provided section consume...  \n",
       "\n",
       "[10000 rows x 3 columns]"
      ]
     },
     "execution_count": 3,
     "metadata": {},
     "output_type": "execute_result"
    }
   ],
   "source": [
    "# Check random data\n",
    "df.sample(frac=1)"
   ]
  },
  {
   "cell_type": "markdown",
   "metadata": {},
   "source": [
    "Now lets see the tail."
   ]
  },
  {
   "cell_type": "code",
   "execution_count": 4,
   "metadata": {},
   "outputs": [
    {
     "data": {
      "text/html": [
       "<div>\n",
       "<style scoped>\n",
       "    .dataframe tbody tr th:only-of-type {\n",
       "        vertical-align: middle;\n",
       "    }\n",
       "\n",
       "    .dataframe tbody tr th {\n",
       "        vertical-align: top;\n",
       "    }\n",
       "\n",
       "    .dataframe thead th {\n",
       "        text-align: right;\n",
       "    }\n",
       "</style>\n",
       "<table border=\"1\" class=\"dataframe\">\n",
       "  <thead>\n",
       "    <tr style=\"text-align: right;\">\n",
       "      <th></th>\n",
       "      <th>Unnamed: 0</th>\n",
       "      <th>product</th>\n",
       "      <th>narrative</th>\n",
       "    </tr>\n",
       "  </thead>\n",
       "  <tbody>\n",
       "    <tr>\n",
       "      <th>9995</th>\n",
       "      <td>9995</td>\n",
       "      <td>debt_collection</td>\n",
       "      <td>called claiming going sue u year old debt amou...</td>\n",
       "    </tr>\n",
       "    <tr>\n",
       "      <th>9996</th>\n",
       "      <td>9996</td>\n",
       "      <td>credit_card</td>\n",
       "      <td>called company one answer</td>\n",
       "    </tr>\n",
       "    <tr>\n",
       "      <th>9997</th>\n",
       "      <td>9997</td>\n",
       "      <td>debt_collection</td>\n",
       "      <td>called company never responded back balance up...</td>\n",
       "    </tr>\n",
       "    <tr>\n",
       "      <th>9998</th>\n",
       "      <td>9998</td>\n",
       "      <td>credit_card</td>\n",
       "      <td>called credit card company ask approximate dat...</td>\n",
       "    </tr>\n",
       "    <tr>\n",
       "      <th>9999</th>\n",
       "      <td>9999</td>\n",
       "      <td>credit_card</td>\n",
       "      <td>called credit card kohl wanted explanation hig...</td>\n",
       "    </tr>\n",
       "  </tbody>\n",
       "</table>\n",
       "</div>"
      ],
      "text/plain": [
       "      Unnamed: 0          product  \\\n",
       "9995        9995  debt_collection   \n",
       "9996        9996      credit_card   \n",
       "9997        9997  debt_collection   \n",
       "9998        9998      credit_card   \n",
       "9999        9999      credit_card   \n",
       "\n",
       "                                              narrative  \n",
       "9995  called claiming going sue u year old debt amou...  \n",
       "9996                          called company one answer  \n",
       "9997  called company never responded back balance up...  \n",
       "9998  called credit card company ask approximate dat...  \n",
       "9999  called credit card kohl wanted explanation hig...  "
      ]
     },
     "execution_count": 4,
     "metadata": {},
     "output_type": "execute_result"
    }
   ],
   "source": [
    "# Show tail\n",
    "df.tail()"
   ]
  },
  {
   "cell_type": "markdown",
   "metadata": {},
   "source": [
    "It seems like **`Unnamed:0`** column is index so I will delete all of them."
   ]
  },
  {
   "cell_type": "code",
   "execution_count": 5,
   "metadata": {},
   "outputs": [
    {
     "data": {
      "text/html": [
       "<div>\n",
       "<style scoped>\n",
       "    .dataframe tbody tr th:only-of-type {\n",
       "        vertical-align: middle;\n",
       "    }\n",
       "\n",
       "    .dataframe tbody tr th {\n",
       "        vertical-align: top;\n",
       "    }\n",
       "\n",
       "    .dataframe thead th {\n",
       "        text-align: right;\n",
       "    }\n",
       "</style>\n",
       "<table border=\"1\" class=\"dataframe\">\n",
       "  <thead>\n",
       "    <tr style=\"text-align: right;\">\n",
       "      <th></th>\n",
       "      <th>product</th>\n",
       "      <th>narrative</th>\n",
       "    </tr>\n",
       "  </thead>\n",
       "  <tbody>\n",
       "    <tr>\n",
       "      <th>0</th>\n",
       "      <td>credit_card</td>\n",
       "      <td>purchase order day shipping amount receive pro...</td>\n",
       "    </tr>\n",
       "  </tbody>\n",
       "</table>\n",
       "</div>"
      ],
      "text/plain": [
       "       product                                          narrative\n",
       "0  credit_card  purchase order day shipping amount receive pro..."
      ]
     },
     "execution_count": 5,
     "metadata": {},
     "output_type": "execute_result"
    }
   ],
   "source": [
    "# Delete unnecessary column\n",
    "df.drop(['Unnamed: 0'],axis=1,inplace=True)\n",
    "df.head(1)"
   ]
  },
  {
   "cell_type": "markdown",
   "metadata": {},
   "source": [
    "Okay, now the dataset ready to be explored."
   ]
  },
  {
   "cell_type": "markdown",
   "metadata": {},
   "source": [
    "# iv. Exploratory Data Analysis (EDA)"
   ]
  },
  {
   "cell_type": "markdown",
   "metadata": {},
   "source": [
    "Let's see information from dataset."
   ]
  },
  {
   "cell_type": "code",
   "execution_count": 6,
   "metadata": {},
   "outputs": [
    {
     "name": "stdout",
     "output_type": "stream",
     "text": [
      "<class 'pandas.core.frame.DataFrame'>\n",
      "RangeIndex: 10000 entries, 0 to 9999\n",
      "Data columns (total 2 columns):\n",
      " #   Column     Non-Null Count  Dtype \n",
      "---  ------     --------------  ----- \n",
      " 0   product    10000 non-null  object\n",
      " 1   narrative  9997 non-null   object\n",
      "dtypes: object(2)\n",
      "memory usage: 156.4+ KB\n"
     ]
    }
   ],
   "source": [
    "# Dataset information\n",
    "df.info()"
   ]
  },
  {
   "cell_type": "markdown",
   "metadata": {},
   "source": [
    "This dataset contains 10,000 rows and 2 columns."
   ]
  },
  {
   "cell_type": "code",
   "execution_count": 7,
   "metadata": {},
   "outputs": [
    {
     "data": {
      "text/plain": [
       "product      0\n",
       "narrative    3\n",
       "dtype: int64"
      ]
     },
     "execution_count": 7,
     "metadata": {},
     "output_type": "execute_result"
    }
   ],
   "source": [
    "# Checking missing value\n",
    "df.isnull().sum()"
   ]
  },
  {
   "cell_type": "markdown",
   "metadata": {},
   "source": [
    "There is 3 missing value. Lets drop them."
   ]
  },
  {
   "cell_type": "code",
   "execution_count": 8,
   "metadata": {},
   "outputs": [
    {
     "data": {
      "text/plain": [
       "product      0\n",
       "narrative    0\n",
       "dtype: int64"
      ]
     },
     "execution_count": 8,
     "metadata": {},
     "output_type": "execute_result"
    }
   ],
   "source": [
    "# Drop missing value\n",
    "df.dropna(inplace=True)\n",
    "\n",
    "# Check missing value after dropna\n",
    "df.isnull().sum()"
   ]
  },
  {
   "cell_type": "markdown",
   "metadata": {},
   "source": [
    "Done, now lets continue to see if our target balance or not?"
   ]
  },
  {
   "cell_type": "code",
   "execution_count": 9,
   "metadata": {},
   "outputs": [
    {
     "name": "stdout",
     "output_type": "stream",
     "text": [
      "credit_reporting       5477\n",
      "debt_collection        1564\n",
      "mortgages_and_loans    1106\n",
      "credit_card            1072\n",
      "retail_banking          778\n",
      "Name: product, dtype: int64\n",
      "AxesSubplot(0.260833,0.125;0.503333x0.755)\n"
     ]
    },
    {
     "data": {
      "image/png": "[encoded data removed]",
      "text/plain": [
       "<Figure size 432x288 with 1 Axes>"
      ]
     },
     "metadata": {},
     "output_type": "display_data"
    }
   ],
   "source": [
    "# Target balance checking\n",
    "print(df['product'].value_counts())\n",
    "print(df['product'].value_counts().plot(kind='pie',autopct='%.2f%%'))"
   ]
  },
  {
   "cell_type": "markdown",
   "metadata": {},
   "source": [
    "It seems that the data is not balance, so I'm going to undersampling `credit_reporting`, to 1,700."
   ]
  },
  {
   "cell_type": "code",
   "execution_count": 10,
   "metadata": {},
   "outputs": [
    {
     "data": {
      "text/html": [
       "<div>\n",
       "<style scoped>\n",
       "    .dataframe tbody tr th:only-of-type {\n",
       "        vertical-align: middle;\n",
       "    }\n",
       "\n",
       "    .dataframe tbody tr th {\n",
       "        vertical-align: top;\n",
       "    }\n",
       "\n",
       "    .dataframe thead th {\n",
       "        text-align: right;\n",
       "    }\n",
       "</style>\n",
       "<table border=\"1\" class=\"dataframe\">\n",
       "  <thead>\n",
       "    <tr style=\"text-align: right;\">\n",
       "      <th></th>\n",
       "      <th>product</th>\n",
       "      <th>narrative</th>\n",
       "    </tr>\n",
       "  </thead>\n",
       "  <tbody>\n",
       "    <tr>\n",
       "      <th>5641</th>\n",
       "      <td>credit_reporting</td>\n",
       "      <td>credit agency reporting error account mine nev...</td>\n",
       "    </tr>\n",
       "    <tr>\n",
       "      <th>8357</th>\n",
       "      <td>credit_reporting</td>\n",
       "      <td>awhile back lost wallet personal information i...</td>\n",
       "    </tr>\n",
       "    <tr>\n",
       "      <th>627</th>\n",
       "      <td>credit_reporting</td>\n",
       "      <td>recent credit report currently reporting appli...</td>\n",
       "    </tr>\n",
       "    <tr>\n",
       "      <th>271</th>\n",
       "      <td>credit_reporting</td>\n",
       "      <td>block except otherwise provided section consum...</td>\n",
       "    </tr>\n",
       "    <tr>\n",
       "      <th>1058</th>\n",
       "      <td>credit_reporting</td>\n",
       "      <td>added credit report error account never paid l...</td>\n",
       "    </tr>\n",
       "    <tr>\n",
       "      <th>...</th>\n",
       "      <td>...</td>\n",
       "      <td>...</td>\n",
       "    </tr>\n",
       "    <tr>\n",
       "      <th>4869</th>\n",
       "      <td>credit_reporting</td>\n",
       "      <td>receiving current copy credit report discovere...</td>\n",
       "    </tr>\n",
       "    <tr>\n",
       "      <th>7627</th>\n",
       "      <td>credit_reporting</td>\n",
       "      <td>per fair credit reporting act item older year ...</td>\n",
       "    </tr>\n",
       "    <tr>\n",
       "      <th>4728</th>\n",
       "      <td>credit_reporting</td>\n",
       "      <td>receiving current copy credit report discovere...</td>\n",
       "    </tr>\n",
       "    <tr>\n",
       "      <th>6219</th>\n",
       "      <td>credit_reporting</td>\n",
       "      <td>american adjustment bureau violated hipaa law ...</td>\n",
       "    </tr>\n",
       "    <tr>\n",
       "      <th>3912</th>\n",
       "      <td>credit_reporting</td>\n",
       "      <td>address name account mine sen ftc filed day ag...</td>\n",
       "    </tr>\n",
       "  </tbody>\n",
       "</table>\n",
       "<p>1700 rows × 2 columns</p>\n",
       "</div>"
      ],
      "text/plain": [
       "               product                                          narrative\n",
       "5641  credit_reporting  credit agency reporting error account mine nev...\n",
       "8357  credit_reporting  awhile back lost wallet personal information i...\n",
       "627   credit_reporting  recent credit report currently reporting appli...\n",
       "271   credit_reporting  block except otherwise provided section consum...\n",
       "1058  credit_reporting  added credit report error account never paid l...\n",
       "...                ...                                                ...\n",
       "4869  credit_reporting  receiving current copy credit report discovere...\n",
       "7627  credit_reporting  per fair credit reporting act item older year ...\n",
       "4728  credit_reporting  receiving current copy credit report discovere...\n",
       "6219  credit_reporting  american adjustment bureau violated hipaa law ...\n",
       "3912  credit_reporting  address name account mine sen ftc filed day ag...\n",
       "\n",
       "[1700 rows x 2 columns]"
      ]
     },
     "execution_count": 10,
     "metadata": {},
     "output_type": "execute_result"
    }
   ],
   "source": [
    "# Undersampling credit_reporting\n",
    "credit_reporting = df[(df['product'] == 'credit_reporting')].sample(1700,random_state=27)\n",
    "credit_reporting"
   ]
  },
  {
   "cell_type": "markdown",
   "metadata": {},
   "source": [
    "After choosing 1,700 data, lets drop all of them first before compile."
   ]
  },
  {
   "cell_type": "code",
   "execution_count": 11,
   "metadata": {},
   "outputs": [
    {
     "name": "stdout",
     "output_type": "stream",
     "text": [
      "debt_collection        1564\n",
      "mortgages_and_loans    1106\n",
      "credit_card            1072\n",
      "retail_banking          778\n",
      "Name: product, dtype: int64\n",
      "AxesSubplot(0.260833,0.125;0.503333x0.755)\n"
     ]
    },
    {
     "data": {
      "image/png": "[encoded data removed]",
      "text/plain": [
       "<Figure size 432x288 with 1 Axes>"
      ]
     },
     "metadata": {},
     "output_type": "display_data"
    }
   ],
   "source": [
    "# Drop all credit_reporting column\n",
    "df.drop(df.index[(df['product'] == 'credit_reporting')], inplace=True)\n",
    "\n",
    "# Show target after drop credit_reporting column\n",
    "print(df['product'].value_counts())\n",
    "print(df['product'].value_counts().plot(kind='pie',autopct='%.2f%%'))"
   ]
  },
  {
   "cell_type": "markdown",
   "metadata": {},
   "source": [
    "Now lets compile them using concat."
   ]
  },
  {
   "cell_type": "code",
   "execution_count": 12,
   "metadata": {},
   "outputs": [
    {
     "name": "stdout",
     "output_type": "stream",
     "text": [
      "credit_reporting       1700\n",
      "debt_collection        1564\n",
      "mortgages_and_loans    1106\n",
      "credit_card            1072\n",
      "retail_banking          778\n",
      "Name: product, dtype: int64\n",
      "AxesSubplot(0.260833,0.125;0.503333x0.755)\n"
     ]
    },
    {
     "data": {
      "image/png": "[encoded data removed]",
      "text/plain": [
       "<Figure size 432x288 with 1 Axes>"
      ]
     },
     "metadata": {},
     "output_type": "display_data"
    }
   ],
   "source": [
    "# New df\n",
    "df = pd.concat([credit_reporting,df])\n",
    "print(df['product'].value_counts())\n",
    "print(df['product'].value_counts().plot(kind='pie',autopct='%.2f%%'))"
   ]
  },
  {
   "cell_type": "markdown",
   "metadata": {},
   "source": [
    "From pie chart above we can see that the dataset is now balance. Now I'm going to shuffle the new dataframe and showing the random data to see if credit reporting blending with others or not."
   ]
  },
  {
   "cell_type": "code",
   "execution_count": null,
   "metadata": {},
   "outputs": [
    {
     "data": {
      "text/html": [
       "<div>\n",
       "<style scoped>\n",
       "    .dataframe tbody tr th:only-of-type {\n",
       "        vertical-align: middle;\n",
       "    }\n",
       "\n",
       "    .dataframe tbody tr th {\n",
       "        vertical-align: top;\n",
       "    }\n",
       "\n",
       "    .dataframe thead th {\n",
       "        text-align: right;\n",
       "    }\n",
       "</style>\n",
       "<table border=\"1\" class=\"dataframe\">\n",
       "  <thead>\n",
       "    <tr style=\"text-align: right;\">\n",
       "      <th></th>\n",
       "      <th>product</th>\n",
       "      <th>narrative</th>\n",
       "    </tr>\n",
       "  </thead>\n",
       "  <tbody>\n",
       "    <tr>\n",
       "      <th>6511</th>\n",
       "      <td>credit_card</td>\n",
       "      <td>amidst worldwide crisis facing going pandemic ...</td>\n",
       "    </tr>\n",
       "    <tr>\n",
       "      <th>7638</th>\n",
       "      <td>mortgages_and_loans</td>\n",
       "      <td>predicted since commitment made exeter princip...</td>\n",
       "    </tr>\n",
       "    <tr>\n",
       "      <th>6654</th>\n",
       "      <td>credit_card</td>\n",
       "      <td>annual capital one member fee placed account c...</td>\n",
       "    </tr>\n",
       "    <tr>\n",
       "      <th>6791</th>\n",
       "      <td>retail_banking</td>\n",
       "      <td>apparently pnc stopped allowing bank account c...</td>\n",
       "    </tr>\n",
       "    <tr>\n",
       "      <th>7074</th>\n",
       "      <td>credit_card</td>\n",
       "      <td>around went bank america branch ca address cam...</td>\n",
       "    </tr>\n",
       "    <tr>\n",
       "      <th>9990</th>\n",
       "      <td>credit_card</td>\n",
       "      <td>called capitalone change ventureone credit car...</td>\n",
       "    </tr>\n",
       "    <tr>\n",
       "      <th>8942</th>\n",
       "      <td>credit_card</td>\n",
       "      <td>bank america made mistake tried pull personal ...</td>\n",
       "    </tr>\n",
       "    <tr>\n",
       "      <th>513</th>\n",
       "      <td>credit_reporting</td>\n",
       "      <td>victim identity theft year collection agency p...</td>\n",
       "    </tr>\n",
       "    <tr>\n",
       "      <th>1491</th>\n",
       "      <td>debt_collection</td>\n",
       "      <td>collection account opened nationwide recovery ...</td>\n",
       "    </tr>\n",
       "    <tr>\n",
       "      <th>3208</th>\n",
       "      <td>debt_collection</td>\n",
       "      <td>account police case filed identity theft polic...</td>\n",
       "    </tr>\n",
       "  </tbody>\n",
       "</table>\n",
       "</div>"
      ],
      "text/plain": [
       "                  product                                          narrative\n",
       "6511          credit_card  amidst worldwide crisis facing going pandemic ...\n",
       "7638  mortgages_and_loans  predicted since commitment made exeter princip...\n",
       "6654          credit_card  annual capital one member fee placed account c...\n",
       "6791       retail_banking  apparently pnc stopped allowing bank account c...\n",
       "7074          credit_card  around went bank america branch ca address cam...\n",
       "9990          credit_card  called capitalone change ventureone credit car...\n",
       "8942          credit_card  bank america made mistake tried pull personal ...\n",
       "513      credit_reporting  victim identity theft year collection agency p...\n",
       "1491      debt_collection  collection account opened nationwide recovery ...\n",
       "3208      debt_collection  account police case filed identity theft polic..."
      ]
     },
     "execution_count": 13,
     "metadata": {},
     "output_type": "execute_result"
    }
   ],
   "source": [
    "# Shuffle new df\n",
    "df = df.sample(frac = 1)\n",
    "\n",
    "# Show 10 data after shuffle\n",
    "df.sample(10,random_state=27)"
   ]
  },
  {
   "cell_type": "markdown",
   "metadata": {},
   "source": [
    "As we can see credit reporting is blending with other data, now lets reset the index."
   ]
  },
  {
   "cell_type": "code",
   "execution_count": 14,
   "metadata": {},
   "outputs": [
    {
     "data": {
      "text/html": [
       "<div>\n",
       "<style scoped>\n",
       "    .dataframe tbody tr th:only-of-type {\n",
       "        vertical-align: middle;\n",
       "    }\n",
       "\n",
       "    .dataframe tbody tr th {\n",
       "        vertical-align: top;\n",
       "    }\n",
       "\n",
       "    .dataframe thead th {\n",
       "        text-align: right;\n",
       "    }\n",
       "</style>\n",
       "<table border=\"1\" class=\"dataframe\">\n",
       "  <thead>\n",
       "    <tr style=\"text-align: right;\">\n",
       "      <th></th>\n",
       "      <th>product</th>\n",
       "      <th>narrative</th>\n",
       "    </tr>\n",
       "  </thead>\n",
       "  <tbody>\n",
       "    <tr>\n",
       "      <th>0</th>\n",
       "      <td>debt_collection</td>\n",
       "      <td>lady named called claim work refers saying owe...</td>\n",
       "    </tr>\n",
       "    <tr>\n",
       "      <th>1</th>\n",
       "      <td>debt_collection</td>\n",
       "      <td>sudden collection account appeared report call...</td>\n",
       "    </tr>\n",
       "    <tr>\n",
       "      <th>2</th>\n",
       "      <td>credit_reporting</td>\n",
       "      <td>mentioned contacted equifax via certified mail...</td>\n",
       "    </tr>\n",
       "    <tr>\n",
       "      <th>3</th>\n",
       "      <td>credit_reporting</td>\n",
       "      <td>back lost wallet personal information inside t...</td>\n",
       "    </tr>\n",
       "    <tr>\n",
       "      <th>4</th>\n",
       "      <td>debt_collection</td>\n",
       "      <td>around called company resolve debt asked could...</td>\n",
       "    </tr>\n",
       "  </tbody>\n",
       "</table>\n",
       "</div>"
      ],
      "text/plain": [
       "            product                                          narrative\n",
       "0   debt_collection  lady named called claim work refers saying owe...\n",
       "1   debt_collection  sudden collection account appeared report call...\n",
       "2  credit_reporting  mentioned contacted equifax via certified mail...\n",
       "3  credit_reporting  back lost wallet personal information inside t...\n",
       "4   debt_collection  around called company resolve debt asked could..."
      ]
     },
     "execution_count": 14,
     "metadata": {},
     "output_type": "execute_result"
    }
   ],
   "source": [
    "# Reset new df index\n",
    "df.reset_index(drop=True, inplace=True)\n",
    "\n",
    "# New df head\n",
    "df.head()"
   ]
  },
  {
   "cell_type": "markdown",
   "metadata": {},
   "source": [
    "Done, now lets see the tail, if the index is already sorted."
   ]
  },
  {
   "cell_type": "code",
   "execution_count": 15,
   "metadata": {},
   "outputs": [
    {
     "data": {
      "text/html": [
       "<div>\n",
       "<style scoped>\n",
       "    .dataframe tbody tr th:only-of-type {\n",
       "        vertical-align: middle;\n",
       "    }\n",
       "\n",
       "    .dataframe tbody tr th {\n",
       "        vertical-align: top;\n",
       "    }\n",
       "\n",
       "    .dataframe thead th {\n",
       "        text-align: right;\n",
       "    }\n",
       "</style>\n",
       "<table border=\"1\" class=\"dataframe\">\n",
       "  <thead>\n",
       "    <tr style=\"text-align: right;\">\n",
       "      <th></th>\n",
       "      <th>product</th>\n",
       "      <th>narrative</th>\n",
       "    </tr>\n",
       "  </thead>\n",
       "  <tbody>\n",
       "    <tr>\n",
       "      <th>6215</th>\n",
       "      <td>mortgages_and_loans</td>\n",
       "      <td>earlier complaint somehow got lost received ca...</td>\n",
       "    </tr>\n",
       "    <tr>\n",
       "      <th>6216</th>\n",
       "      <td>credit_card</td>\n",
       "      <td>closed store card macys mistakenly charged acc...</td>\n",
       "    </tr>\n",
       "    <tr>\n",
       "      <th>6217</th>\n",
       "      <td>debt_collection</td>\n",
       "      <td>online dispute bureau closed determined accura...</td>\n",
       "    </tr>\n",
       "    <tr>\n",
       "      <th>6218</th>\n",
       "      <td>credit_reporting</td>\n",
       "      <td>account known ftc violation original creditor ...</td>\n",
       "    </tr>\n",
       "    <tr>\n",
       "      <th>6219</th>\n",
       "      <td>debt_collection</td>\n",
       "      <td>credit card opened name wrong address garnishe...</td>\n",
       "    </tr>\n",
       "  </tbody>\n",
       "</table>\n",
       "</div>"
      ],
      "text/plain": [
       "                  product                                          narrative\n",
       "6215  mortgages_and_loans  earlier complaint somehow got lost received ca...\n",
       "6216          credit_card  closed store card macys mistakenly charged acc...\n",
       "6217      debt_collection  online dispute bureau closed determined accura...\n",
       "6218     credit_reporting  account known ftc violation original creditor ...\n",
       "6219      debt_collection  credit card opened name wrong address garnishe..."
      ]
     },
     "execution_count": 15,
     "metadata": {},
     "output_type": "execute_result"
    }
   ],
   "source": [
    "# New df tail\n",
    "df.tail()"
   ]
  },
  {
   "cell_type": "markdown",
   "metadata": {},
   "source": [
    "Okay, now the data is ready to be proceed."
   ]
  },
  {
   "cell_type": "markdown",
   "metadata": {},
   "source": [
    "# v. Preprocessing Data"
   ]
  },
  {
   "cell_type": "markdown",
   "metadata": {},
   "source": [
    "Lets see the second narrative first."
   ]
  },
  {
   "cell_type": "code",
   "execution_count": 78,
   "metadata": {},
   "outputs": [
    {
     "name": "stdout",
     "output_type": "stream",
     "text": [
      "sudden collection account appeared report called said sent dont live told company law placed collection credit report giving chance validate account didnt care said notice sent address dont live account\n"
     ]
    },
    {
     "data": {
      "image/png": "[encoded data removed]",
      "text/plain": [
       "<Figure size 720x432 with 1 Axes>"
      ]
     },
     "metadata": {
      "needs_background": "light"
     },
     "output_type": "display_data"
    }
   ],
   "source": [
    "# Show second narrative\n",
    "print(df.narrative[1])\n",
    "\n",
    "# Word Cloud\n",
    "love = np.array(Image.open(\"love.jpg\"))\n",
    "wc = WordCloud(background_color=\"white\", max_words=100, mask=love, stopwords=df.narrative[1],\n",
    "               min_font_size=10, colormap='Dark2')\n",
    "# Generate a wordcloud\n",
    "wc.generate(df.narrative[1])\n",
    "# plot \n",
    "plt.figure(figsize=(10,6))\n",
    "plt.imshow(wc)\n",
    "plt.show()"
   ]
  },
  {
   "cell_type": "markdown",
   "metadata": {},
   "source": [
    "The data doesnt have number and punctuation, and also already in lowercase, so lets jump into stopwords, lets see english stopwords that been downloaded."
   ]
  },
  {
   "cell_type": "code",
   "execution_count": 17,
   "metadata": {},
   "outputs": [
    {
     "name": "stdout",
     "output_type": "stream",
     "text": [
      "['i', 'me', 'my', 'myself', 'we', 'our', 'ours', 'ourselves', 'you', \"you're\", \"you've\", \"you'll\", \"you'd\", 'your', 'yours', 'yourself', 'yourselves', 'he', 'him', 'his', 'himself', 'she', \"she's\", 'her', 'hers', 'herself', 'it', \"it's\", 'its', 'itself', 'they', 'them', 'their', 'theirs', 'themselves', 'what', 'which', 'who', 'whom', 'this', 'that', \"that'll\", 'these', 'those', 'am', 'is', 'are', 'was', 'were', 'be', 'been', 'being', 'have', 'has', 'had', 'having', 'do', 'does', 'did', 'doing', 'a', 'an', 'the', 'and', 'but', 'if', 'or', 'because', 'as', 'until', 'while', 'of', 'at', 'by', 'for', 'with', 'about', 'against', 'between', 'into', 'through', 'during', 'before', 'after', 'above', 'below', 'to', 'from', 'up', 'down', 'in', 'out', 'on', 'off', 'over', 'under', 'again', 'further', 'then', 'once', 'here', 'there', 'when', 'where', 'why', 'how', 'all', 'any', 'both', 'each', 'few', 'more', 'most', 'other', 'some', 'such', 'no', 'nor', 'not', 'only', 'own', 'same', 'so', 'than', 'too', 'very', 's', 't', 'can', 'will', 'just', 'don', \"don't\", 'should', \"should've\", 'now', 'd', 'll', 'm', 'o', 're', 've', 'y', 'ain', 'aren', \"aren't\", 'couldn', \"couldn't\", 'didn', \"didn't\", 'doesn', \"doesn't\", 'hadn', \"hadn't\", 'hasn', \"hasn't\", 'haven', \"haven't\", 'isn', \"isn't\", 'ma', 'mightn', \"mightn't\", 'mustn', \"mustn't\", 'needn', \"needn't\", 'shan', \"shan't\", 'shouldn', \"shouldn't\", 'wasn', \"wasn't\", 'weren', \"weren't\", 'won', \"won't\", 'wouldn', \"wouldn't\"]\n"
     ]
    }
   ],
   "source": [
    "# Show the stopwords downloaded\n",
    "print(stopwords.words('english'))"
   ]
  },
  {
   "cell_type": "markdown",
   "metadata": {},
   "source": [
    "Now lets add some stopwords to the list."
   ]
  },
  {
   "cell_type": "code",
   "execution_count": 18,
   "metadata": {},
   "outputs": [
    {
     "name": "stdout",
     "output_type": "stream",
     "text": [
      "['aren', 'her', 'just', 'o', 'all', 'this', 'his', 'some', 'now', \"hasn't\", 'him', 'and', \"aren't\", 's', 'on', 'why', \"should've\", 'me', \"isn't\", 'until', \"didn't\", 'doing', 'was', 'out', 'we', 'each', 'what', 'don', 'himself', 'our', 'when', 'where', 'isn', 'to', 'been', 'yourselves', 'didn', 'my', 'those', 'she', 'between', \"shouldn't\", \"haven't\", 'does', 'very', 'before', 'couldn', \"needn't\", 'if', 'shan', 'its', 'they', 'over', 've', 're', 'both', 'up', 'i', 'down', \"won't\", 'not', 'be', 'he', 'are', 'weren', \"you'll\", \"shan't\", 'won', 'wouldn', 'by', 'yourself', 'for', 'few', 'their', 'during', 'so', 'below', 'shouldn', 'into', 'is', 'under', 'mightn', 'were', 'an', 'with', 'ours', 'more', 'haven', 'm', 'myself', 'as', \"you're\", 'itself', 'about', 'from', 'here', 't', 'it', 'have', 'will', 'most', \"it's\", 'own', 'how', 'above', 'these', 'the', 'ain', 'yours', 'y', \"you've\", 'am', 'ourselves', 'being', 'or', 'again', 'other', 'can', 'mustn', 'hasn', \"you'd\", 'than', 'no', 'in', 'ma', \"wasn't\", \"wouldn't\", 'your', 'theirs', 'hers', 'after', 'off', 'having', \"mightn't\", \"mustn't\", 'themselves', 'll', 'a', \"she's\", 'at', 'them', 'doesn', 'only', \"that'll\", 'do', \"weren't\", 'same', 'of', 'that', 'herself', 'd', 'had', 'you', 'who', 'once', 'then', \"doesn't\", 'hadn', 'did', \"hadn't\", 'such', 'because', \"don't\", 'wasn', 'through', 'any', \"couldn't\", 'which', 'while', 'has', 'against', 'should', 'nor', 'further', 'but', 'too', 'whom', 'needn', 'there', 'wont', 'didnt', 'please', 'help', 'thanks', 'sincerely', 'dont', 'wouldnt', 'isnt', 'couldnt', 'cant', 'mightnt', 'hadnt', 'doesnt', 'neednt', 'arent', 'werent', 'wasnt', 'hasnt', 'havent', 'shouldnt', 'mustnt', 'hadnt', 'aint', 'mightnt', 'shant', 'will', 'did', 'would', 'need', 'might', 'had', 'must', 'have', 'has', 'was', 'were', 'are', 'does', 'can', 'could']\n"
     ]
    }
   ],
   "source": [
    "# Stopwords defined\n",
    "stpwds_en = list(set(stopwords.words('english')))\n",
    "\n",
    "# Add new stopwords\n",
    "additional = ['wont','didnt','please','help','thanks','sincerely','dont','wouldnt',\n",
    "'isnt', 'couldnt', 'cant', 'mightnt','hadnt','doesnt','neednt','arent','werent',\n",
    "'wasnt','hasnt','havent','shouldnt','mustnt','hadnt','aint','mightnt','shant',\n",
    "'will', 'did','would','need','might','had','must','have','has','was','were',\n",
    "'are','does','can','could']\n",
    "stpwds_en = stpwds_en + additional\n",
    "\n",
    "# Print new stopwords\n",
    "print(stpwds_en)"
   ]
  },
  {
   "cell_type": "markdown",
   "metadata": {},
   "source": [
    "Now lets make a function to filtering the stopword's list."
   ]
  },
  {
   "cell_type": "code",
   "execution_count": 19,
   "metadata": {},
   "outputs": [],
   "source": [
    "# Create a Function for DataFrame\n",
    "\n",
    "def text_proses(text):\n",
    "  # Tokenizing\n",
    "  tokens = word_tokenize(text)\n",
    "\n",
    "  # Filtering use Stopwords\n",
    "  text = ' '.join([word for word in tokens if word not in stpwds_en])\n",
    "\n",
    "  return text"
   ]
  },
  {
   "cell_type": "markdown",
   "metadata": {},
   "source": [
    "After we create function time to apply it to narrative column and save them to a new column call \"stopwords\"."
   ]
  },
  {
   "cell_type": "code",
   "execution_count": 20,
   "metadata": {},
   "outputs": [
    {
     "data": {
      "text/html": [
       "<div>\n",
       "<style scoped>\n",
       "    .dataframe tbody tr th:only-of-type {\n",
       "        vertical-align: middle;\n",
       "    }\n",
       "\n",
       "    .dataframe tbody tr th {\n",
       "        vertical-align: top;\n",
       "    }\n",
       "\n",
       "    .dataframe thead th {\n",
       "        text-align: right;\n",
       "    }\n",
       "</style>\n",
       "<table border=\"1\" class=\"dataframe\">\n",
       "  <thead>\n",
       "    <tr style=\"text-align: right;\">\n",
       "      <th></th>\n",
       "      <th>product</th>\n",
       "      <th>narrative</th>\n",
       "      <th>stopwords</th>\n",
       "    </tr>\n",
       "  </thead>\n",
       "  <tbody>\n",
       "    <tr>\n",
       "      <th>0</th>\n",
       "      <td>debt_collection</td>\n",
       "      <td>lady named called claim work refers saying owe...</td>\n",
       "      <td>lady named called claim work refers saying owe...</td>\n",
       "    </tr>\n",
       "    <tr>\n",
       "      <th>1</th>\n",
       "      <td>debt_collection</td>\n",
       "      <td>sudden collection account appeared report call...</td>\n",
       "      <td>sudden collection account appeared report call...</td>\n",
       "    </tr>\n",
       "    <tr>\n",
       "      <th>2</th>\n",
       "      <td>credit_reporting</td>\n",
       "      <td>mentioned contacted equifax via certified mail...</td>\n",
       "      <td>mentioned contacted equifax via certified mail...</td>\n",
       "    </tr>\n",
       "    <tr>\n",
       "      <th>3</th>\n",
       "      <td>credit_reporting</td>\n",
       "      <td>back lost wallet personal information inside t...</td>\n",
       "      <td>back lost wallet personal information inside t...</td>\n",
       "    </tr>\n",
       "    <tr>\n",
       "      <th>4</th>\n",
       "      <td>debt_collection</td>\n",
       "      <td>around called company resolve debt asked could...</td>\n",
       "      <td>around called company resolve debt asked come ...</td>\n",
       "    </tr>\n",
       "  </tbody>\n",
       "</table>\n",
       "</div>"
      ],
      "text/plain": [
       "            product                                          narrative  \\\n",
       "0   debt_collection  lady named called claim work refers saying owe...   \n",
       "1   debt_collection  sudden collection account appeared report call...   \n",
       "2  credit_reporting  mentioned contacted equifax via certified mail...   \n",
       "3  credit_reporting  back lost wallet personal information inside t...   \n",
       "4   debt_collection  around called company resolve debt asked could...   \n",
       "\n",
       "                                           stopwords  \n",
       "0  lady named called claim work refers saying owe...  \n",
       "1  sudden collection account appeared report call...  \n",
       "2  mentioned contacted equifax via certified mail...  \n",
       "3  back lost wallet personal information inside t...  \n",
       "4  around called company resolve debt asked come ...  "
      ]
     },
     "execution_count": 20,
     "metadata": {},
     "output_type": "execute_result"
    }
   ],
   "source": [
    "# Apply all preprocessing to narrative and create text_processed\n",
    "\n",
    "df['stopwords'] = df['narrative'].apply(lambda x: text_proses(x))\n",
    "df.head()"
   ]
  },
  {
   "cell_type": "markdown",
   "metadata": {},
   "source": [
    "Done, now lets see the second narrative."
   ]
  },
  {
   "cell_type": "code",
   "execution_count": 84,
   "metadata": {},
   "outputs": [
    {
     "name": "stdout",
     "output_type": "stream",
     "text": [
      "Before stopword:\n",
      " sudden collection account appeared report called said sent dont live told company law placed collection credit report giving chance validate account didnt care said notice sent address dont live account\n",
      "After stopword:\n",
      " sudden collection account appeared report called said sent live told company law placed collection credit report giving chance validate account care said notice sent address live account\n"
     ]
    },
    {
     "data": {
      "image/png": "[encoded data removed]",
      "text/plain": [
       "<Figure size 720x432 with 1 Axes>"
      ]
     },
     "metadata": {
      "needs_background": "light"
     },
     "output_type": "display_data"
    }
   ],
   "source": [
    "# Show second narrative\n",
    "print('Before stopword:\\n',df.narrative[1])\n",
    "# Show narrative after delete stopwords\n",
    "print('After stopword:\\n',df.stopwords[1])\n",
    "\n",
    "# Word Cloud\n",
    "H = np.array(Image.open(\"H.jpg\"))\n",
    "wc_2 = WordCloud(background_color=\"white\", max_words=100, mask=H, stopwords=df.stopwords[1],\n",
    "               min_font_size=5, colormap='Dark2')\n",
    "# Generate a wordcloud\n",
    "wc_2.generate(df.stopwords[1])\n",
    "# plot \n",
    "plt.figure(figsize=(10,6))\n",
    "plt.imshow(wc_2)\n",
    "plt.show()"
   ]
  },
  {
   "cell_type": "markdown",
   "metadata": {},
   "source": [
    "As you can see, dont is delete from that sentence, filtering is done now lets stemming the word using PorterStemmer. Then I save it to a new column call \"stemmed\"."
   ]
  },
  {
   "cell_type": "code",
   "execution_count": 22,
   "metadata": {},
   "outputs": [],
   "source": [
    "# Stemming defined\n",
    "stemmer = PorterStemmer()\n",
    "\n",
    "# Create stemming loop\n",
    "stemmed_content = []\n",
    "\n",
    "for doc in df.stopwords:\n",
    "  result1 = [stemmer.stem(word) for word in doc.split()]\n",
    "  result2 = ' '.join(result1)\n",
    "  stemmed_content.append(result2)\n",
    "\n",
    "df['stemmed'] = stemmed_content\n"
   ]
  },
  {
   "cell_type": "markdown",
   "metadata": {},
   "source": [
    "Now lets see the difference before and after stemming."
   ]
  },
  {
   "cell_type": "code",
   "execution_count": 90,
   "metadata": {},
   "outputs": [
    {
     "name": "stdout",
     "output_type": "stream",
     "text": [
      "Before stemming:\n",
      " sudden collection account appeared report called said sent live told company law placed collection credit report giving chance validate account care said notice sent address live account\n",
      "After stemming:\n",
      " sudden collect account appear report call said sent live told compani law place collect credit report give chanc valid account care said notic sent address live account\n"
     ]
    },
    {
     "data": {
      "image/png": "[encoded data removed]",
      "text/plain": [
       "<Figure size 720x432 with 1 Axes>"
      ]
     },
     "metadata": {
      "needs_background": "light"
     },
     "output_type": "display_data"
    }
   ],
   "source": [
    "# Show second narrative after stopwords\n",
    "print('Before stemming:\\n',df.stopwords[1])\n",
    "# Show narrative after stemming\n",
    "print('After stemming:\\n',df.stemmed[1])\n",
    "\n",
    "# Word Cloud\n",
    "eight = np.array(Image.open(\"8.jpg\"))\n",
    "wc_3 = WordCloud(background_color=\"white\", max_words=100, mask=eight, stopwords=df.stemmed[1],\n",
    "               min_font_size=4, colormap='Dark2')\n",
    "# Generate a wordcloud\n",
    "wc_3.generate(df.stemmed[1])\n",
    "# plot \n",
    "plt.figure(figsize=(10,6))\n",
    "plt.imshow(wc_3)\n",
    "plt.show()"
   ]
  },
  {
   "cell_type": "markdown",
   "metadata": {},
   "source": [
    "As you can see collection change to collect, appeared change to appear, etc. Now lets see all target unique value."
   ]
  },
  {
   "cell_type": "code",
   "execution_count": 24,
   "metadata": {},
   "outputs": [
    {
     "data": {
      "text/plain": [
       "array(['debt_collection', 'credit_reporting', 'retail_banking',\n",
       "       'mortgages_and_loans', 'credit_card'], dtype=object)"
      ]
     },
     "execution_count": 24,
     "metadata": {},
     "output_type": "execute_result"
    }
   ],
   "source": [
    "# Show unique value from the bank products(target)\n",
    "df['product'].unique()"
   ]
  },
  {
   "cell_type": "markdown",
   "metadata": {},
   "source": [
    "We have 5 category here, now lets label all of them, and save it to a new column call \"target\"."
   ]
  },
  {
   "cell_type": "code",
   "execution_count": 25,
   "metadata": {},
   "outputs": [
    {
     "data": {
      "text/html": [
       "<div>\n",
       "<style scoped>\n",
       "    .dataframe tbody tr th:only-of-type {\n",
       "        vertical-align: middle;\n",
       "    }\n",
       "\n",
       "    .dataframe tbody tr th {\n",
       "        vertical-align: top;\n",
       "    }\n",
       "\n",
       "    .dataframe thead th {\n",
       "        text-align: right;\n",
       "    }\n",
       "</style>\n",
       "<table border=\"1\" class=\"dataframe\">\n",
       "  <thead>\n",
       "    <tr style=\"text-align: right;\">\n",
       "      <th></th>\n",
       "      <th>product</th>\n",
       "      <th>narrative</th>\n",
       "      <th>stopwords</th>\n",
       "      <th>stemmed</th>\n",
       "      <th>target</th>\n",
       "    </tr>\n",
       "  </thead>\n",
       "  <tbody>\n",
       "    <tr>\n",
       "      <th>0</th>\n",
       "      <td>debt_collection</td>\n",
       "      <td>lady named called claim work refers saying owe...</td>\n",
       "      <td>lady named called claim work refers saying owe...</td>\n",
       "      <td>ladi name call claim work refer say owe capit ...</td>\n",
       "      <td>1</td>\n",
       "    </tr>\n",
       "    <tr>\n",
       "      <th>1</th>\n",
       "      <td>debt_collection</td>\n",
       "      <td>sudden collection account appeared report call...</td>\n",
       "      <td>sudden collection account appeared report call...</td>\n",
       "      <td>sudden collect account appear report call said...</td>\n",
       "      <td>1</td>\n",
       "    </tr>\n",
       "    <tr>\n",
       "      <th>2</th>\n",
       "      <td>credit_reporting</td>\n",
       "      <td>mentioned contacted equifax via certified mail...</td>\n",
       "      <td>mentioned contacted equifax via certified mail...</td>\n",
       "      <td>mention contact equifax via certifi mail respo...</td>\n",
       "      <td>2</td>\n",
       "    </tr>\n",
       "    <tr>\n",
       "      <th>3</th>\n",
       "      <td>credit_reporting</td>\n",
       "      <td>back lost wallet personal information inside t...</td>\n",
       "      <td>back lost wallet personal information inside t...</td>\n",
       "      <td>back lost wallet person inform insid think muc...</td>\n",
       "      <td>2</td>\n",
       "    </tr>\n",
       "    <tr>\n",
       "      <th>4</th>\n",
       "      <td>debt_collection</td>\n",
       "      <td>around called company resolve debt asked could...</td>\n",
       "      <td>around called company resolve debt asked come ...</td>\n",
       "      <td>around call compani resolv debt ask come agree...</td>\n",
       "      <td>1</td>\n",
       "    </tr>\n",
       "  </tbody>\n",
       "</table>\n",
       "</div>"
      ],
      "text/plain": [
       "            product                                          narrative  \\\n",
       "0   debt_collection  lady named called claim work refers saying owe...   \n",
       "1   debt_collection  sudden collection account appeared report call...   \n",
       "2  credit_reporting  mentioned contacted equifax via certified mail...   \n",
       "3  credit_reporting  back lost wallet personal information inside t...   \n",
       "4   debt_collection  around called company resolve debt asked could...   \n",
       "\n",
       "                                           stopwords  \\\n",
       "0  lady named called claim work refers saying owe...   \n",
       "1  sudden collection account appeared report call...   \n",
       "2  mentioned contacted equifax via certified mail...   \n",
       "3  back lost wallet personal information inside t...   \n",
       "4  around called company resolve debt asked come ...   \n",
       "\n",
       "                                             stemmed  target  \n",
       "0  ladi name call claim work refer say owe capit ...       1  \n",
       "1  sudden collect account appear report call said...       1  \n",
       "2  mention contact equifax via certifi mail respo...       2  \n",
       "3  back lost wallet person inform insid think muc...       2  \n",
       "4  around call compani resolv debt ask come agree...       1  "
      ]
     },
     "execution_count": 25,
     "metadata": {},
     "output_type": "execute_result"
    }
   ],
   "source": [
    "# Now lets encode the target\n",
    "df['target'] = df['product'].replace({'debt_collection' : 1, \n",
    "                                      'credit_reporting' : 2, \n",
    "                                      'credit_card' : 3, \n",
    "                                      'retail_banking' : 4,\n",
    "                                      'mortgages_and_loans' : 5\n",
    "                                     })\n",
    "df.head()"
   ]
  },
  {
   "cell_type": "markdown",
   "metadata": {},
   "source": [
    "Done, now lets we split train set and test set."
   ]
  },
  {
   "cell_type": "code",
   "execution_count": 26,
   "metadata": {},
   "outputs": [
    {
     "name": "stdout",
     "output_type": "stream",
     "text": [
      "Train Size :  (4665,)\n",
      "Test Size  :  (1555,)\n"
     ]
    }
   ],
   "source": [
    "# Splitting corpus\n",
    "X_train, X_test, y_train, y_test = train_test_split(df.stemmed, \n",
    "                                                    df.target, \n",
    "                                                    test_size=0.25, \n",
    "                                                    random_state=27, \n",
    "                                                    stratify=df.target)\n",
    "\n",
    "print('Train Size : ', X_train.shape)\n",
    "print('Test Size  : ', X_test.shape)"
   ]
  },
  {
   "cell_type": "markdown",
   "metadata": {},
   "source": [
    "Train set contains 4665 and test set contains 1555. Now lets find out how many vocab and maximum sentence lenth using countvectorizer."
   ]
  },
  {
   "cell_type": "code",
   "execution_count": 27,
   "metadata": {},
   "outputs": [
    {
     "data": {
      "text/plain": [
       "<4665x7951 sparse matrix of type '<class 'numpy.int64'>'\n",
       "\twith 282906 stored elements in Compressed Sparse Row format>"
      ]
     },
     "execution_count": 27,
     "metadata": {},
     "output_type": "execute_result"
    }
   ],
   "source": [
    "# CountVectorizer\n",
    "\n",
    "count = CountVectorizer()\n",
    "X_train_coun = count.fit_transform(X_train)\n",
    "X_test_coun = count.transform(X_test)\n",
    "\n",
    "X_train_coun"
   ]
  },
  {
   "cell_type": "code",
   "execution_count": 28,
   "metadata": {},
   "outputs": [
    {
     "name": "stdout",
     "output_type": "stream",
     "text": [
      "Total vocab :  7951\n",
      "Maximum sentence length :  2564\n"
     ]
    }
   ],
   "source": [
    "# Looking total vocab and token's max length for one document\n",
    "\n",
    "total_vocab_coun = len(count.vocabulary_.keys())\n",
    "max_sen_len_coun = max([len(i.split(\" \")) for i in X_train])\n",
    "\n",
    "print(\"Total vocab : \", total_vocab_coun)\n",
    "print(\"Maximum sentence length : \", max_sen_len_coun)"
   ]
  },
  {
   "cell_type": "markdown",
   "metadata": {},
   "source": [
    "Now lets setting textvectorization parameter for modelling. I'm using total vocab as max_token, standardize lower and strip punctuation, split by whitespace, ngrams become None because if I choose 1 and above, the data will too much(overkill), output_mode integral, output_sequence_length equal to maximum sentence lenth, and input shape (1,) because I'm using sequential API."
   ]
  },
  {
   "cell_type": "code",
   "execution_count": 29,
   "metadata": {},
   "outputs": [],
   "source": [
    "# Text Vectorization's parameter setting\n",
    "\n",
    "vector = TextVectorization(max_tokens=total_vocab_coun,\n",
    "                           standardize=\"lower_and_strip_punctuation\",\n",
    "                           split=\"whitespace\",\n",
    "                           ngrams=None,\n",
    "                           output_mode=\"int\",\n",
    "                           output_sequence_length = max_sen_len_coun,\n",
    "                           input_shape=(1,)\n",
    "                           )\n",
    "\n",
    "vector.adapt(X_train)"
   ]
  },
  {
   "cell_type": "markdown",
   "metadata": {},
   "source": [
    "Now lets see top 10 token."
   ]
  },
  {
   "cell_type": "code",
   "execution_count": 30,
   "metadata": {},
   "outputs": [
    {
     "data": {
      "text/plain": [
       "['',\n",
       " '[UNK]',\n",
       " 'account',\n",
       " 'report',\n",
       " 'credit',\n",
       " 'call',\n",
       " 'payment',\n",
       " 'inform',\n",
       " 'claim',\n",
       " 'debt']"
      ]
     },
     "execution_count": 30,
     "metadata": {},
     "output_type": "execute_result"
    }
   ],
   "source": [
    "# Show top 10 token (Sort by token's count ascending)\n",
    "\n",
    "vector.get_vocabulary()[:10]"
   ]
  },
  {
   "cell_type": "markdown",
   "metadata": {},
   "source": [
    "This top 10 is already good, there isnt single alphabet etc, now lets continue to setting embedding's parameter. One vocab I change to 32 element, with uniform initializer to randomized, and still for input length equal to maximum sentence length. "
   ]
  },
  {
   "cell_type": "code",
   "execution_count": 31,
   "metadata": {},
   "outputs": [],
   "source": [
    "# Embedding's parameter setting\n",
    "\n",
    "embedding = Embedding(input_dim=total_vocab_coun,\n",
    "                      output_dim=32,\n",
    "                      embeddings_initializer=\"uniform\",\n",
    "                      input_length=max_sen_len_coun\n",
    "                      )"
   ]
  },
  {
   "cell_type": "markdown",
   "metadata": {},
   "source": [
    "Now lets change the y_train and y_test to label using one hot encoder because the target is ordinal data type."
   ]
  },
  {
   "cell_type": "code",
   "execution_count": 32,
   "metadata": {},
   "outputs": [
    {
     "data": {
      "text/plain": [
       "array([[0., 0., 1., 0., 0., 0.],\n",
       "       [0., 0., 1., 0., 0., 0.],\n",
       "       [0., 0., 1., 0., 0., 0.],\n",
       "       ...,\n",
       "       [0., 0., 1., 0., 0., 0.],\n",
       "       [0., 0., 0., 0., 1., 0.],\n",
       "       [0., 0., 0., 0., 0., 1.]], dtype=float32)"
      ]
     },
     "execution_count": 32,
     "metadata": {},
     "output_type": "execute_result"
    }
   ],
   "source": [
    "# Change Target to One Hot Encoding\n",
    "\n",
    "y_train_ohe = to_categorical(y_train)\n",
    "y_test_ohe = to_categorical(y_test)\n",
    "y_train_ohe"
   ]
  },
  {
   "cell_type": "markdown",
   "metadata": {},
   "source": [
    "Now lets define the model."
   ]
  },
  {
   "cell_type": "markdown",
   "metadata": {},
   "source": [
    "# vi. Model Definition"
   ]
  },
  {
   "cell_type": "markdown",
   "metadata": {},
   "source": [
    "First model is Sequential API using deep learning fully connected layer (Dense). Im using global average pooling to average all element weight. Hidden layer activation use relu, output layer use softmax, and loss using categorical_crossentropy due to multiclass classification. Im using accracy for metrics and adam optimizer. "
   ]
  },
  {
   "cell_type": "code",
   "execution_count": 33,
   "metadata": {},
   "outputs": [],
   "source": [
    "# Clear session\n",
    "seed = 20\n",
    "tf.keras.backend.clear_session()\n",
    "np.random.seed(seed)\n",
    "tf.random.set_seed(seed)\n",
    "\n",
    "# Create Sequential API using Deep learning-fully connected layer\n",
    "model1 = Sequential()\n",
    "model1.add(vector)\n",
    "model1.add(embedding)\n",
    "model1.add(GlobalAveragePooling1D())\n",
    "model1.add(Dense(32,activation='relu'))\n",
    "model1.add(Dense(6,activation='softmax'))\n",
    "\n",
    "# Compile\n",
    "model1.compile(loss='categorical_crossentropy',optimizer='adam',metrics='accuracy')"
   ]
  },
  {
   "cell_type": "markdown",
   "metadata": {},
   "source": [
    "Second model is Sequential API using LSTM. Im using 2 hidden layer and 32 neuron each, return sequence equal to True so can save the result from first hidden layer to a second hidden layer, output layer use softmax, and loss using categorical_crossentropy due to multiclass classification. Im using accracy for metrics and adam optimizer. "
   ]
  },
  {
   "cell_type": "code",
   "execution_count": 34,
   "metadata": {},
   "outputs": [],
   "source": [
    "# Clear session\n",
    "seed = 20\n",
    "tf.keras.backend.clear_session()\n",
    "np.random.seed(seed)\n",
    "tf.random.set_seed(seed)\n",
    "\n",
    "# Create model using LSTM layer\n",
    "model2 = Sequential()\n",
    "model2.add(vector)\n",
    "model2.add(embedding)\n",
    "model2.add(LSTM(32, return_sequences=True))\n",
    "model2.add(LSTM(32))\n",
    "model2.add(Dropout(0.2))\n",
    "model2.add(Dense(6,activation='softmax'))\n",
    "\n",
    "# Compile\n",
    "model2.compile(loss='categorical_crossentropy',optimizer='adam',metrics='accuracy')"
   ]
  },
  {
   "cell_type": "markdown",
   "metadata": {},
   "source": [
    "Now lets train the model!"
   ]
  },
  {
   "cell_type": "markdown",
   "metadata": {},
   "source": [
    "# vii. Model Training"
   ]
  },
  {
   "cell_type": "markdown",
   "metadata": {},
   "source": [
    "Traind the first model."
   ]
  },
  {
   "cell_type": "code",
   "execution_count": 35,
   "metadata": {},
   "outputs": [
    {
     "name": "stdout",
     "output_type": "stream",
     "text": [
      "Epoch 1/30\n",
      "146/146 [==============================] - 4s 20ms/step - loss: 1.6723 - accuracy: 0.2547 - val_loss: 1.5883 - val_accuracy: 0.2733\n",
      "Epoch 2/30\n",
      "146/146 [==============================] - 3s 20ms/step - loss: 1.5776 - accuracy: 0.2742 - val_loss: 1.5679 - val_accuracy: 0.2733\n",
      "Epoch 3/30\n",
      "146/146 [==============================] - 3s 21ms/step - loss: 1.5636 - accuracy: 0.2838 - val_loss: 1.5538 - val_accuracy: 0.2740\n",
      "Epoch 4/30\n",
      "146/146 [==============================] - 3s 19ms/step - loss: 1.5419 - accuracy: 0.2823 - val_loss: 1.5268 - val_accuracy: 0.2746\n",
      "Epoch 5/30\n",
      "146/146 [==============================] - 3s 18ms/step - loss: 1.5110 - accuracy: 0.2982 - val_loss: 1.4960 - val_accuracy: 0.2785\n",
      "Epoch 6/30\n",
      "146/146 [==============================] - 3s 18ms/step - loss: 1.4768 - accuracy: 0.3235 - val_loss: 1.4576 - val_accuracy: 0.3087\n",
      "Epoch 7/30\n",
      "146/146 [==============================] - 3s 19ms/step - loss: 1.4397 - accuracy: 0.3573 - val_loss: 1.4193 - val_accuracy: 0.3601\n",
      "Epoch 8/30\n",
      "146/146 [==============================] - 3s 18ms/step - loss: 1.4007 - accuracy: 0.3859 - val_loss: 1.3693 - val_accuracy: 0.4347\n",
      "Epoch 9/30\n",
      "146/146 [==============================] - 3s 18ms/step - loss: 1.3642 - accuracy: 0.4109 - val_loss: 1.3353 - val_accuracy: 0.4219\n",
      "Epoch 10/30\n",
      "146/146 [==============================] - 3s 19ms/step - loss: 1.3299 - accuracy: 0.4086 - val_loss: 1.2935 - val_accuracy: 0.4605\n",
      "Epoch 11/30\n",
      "146/146 [==============================] - 3s 18ms/step - loss: 1.2973 - accuracy: 0.4347 - val_loss: 1.2854 - val_accuracy: 0.4392\n",
      "Epoch 12/30\n",
      "146/146 [==============================] - 3s 19ms/step - loss: 1.2687 - accuracy: 0.4437 - val_loss: 1.2310 - val_accuracy: 0.5048\n",
      "Epoch 13/30\n",
      "146/146 [==============================] - 3s 18ms/step - loss: 1.2369 - accuracy: 0.4699 - val_loss: 1.2064 - val_accuracy: 0.4399\n",
      "Epoch 14/30\n",
      "146/146 [==============================] - 3s 18ms/step - loss: 1.2085 - accuracy: 0.4939 - val_loss: 1.1797 - val_accuracy: 0.5222\n",
      "Epoch 15/30\n",
      "146/146 [==============================] - 3s 19ms/step - loss: 1.1806 - accuracy: 0.5170 - val_loss: 1.1551 - val_accuracy: 0.4830\n",
      "Epoch 16/30\n",
      "146/146 [==============================] - 3s 18ms/step - loss: 1.1519 - accuracy: 0.5436 - val_loss: 1.1275 - val_accuracy: 0.5093\n",
      "Epoch 17/30\n",
      "146/146 [==============================] - 3s 18ms/step - loss: 1.1180 - accuracy: 0.5713 - val_loss: 1.1059 - val_accuracy: 0.6322\n",
      "Epoch 18/30\n",
      "146/146 [==============================] - 3s 20ms/step - loss: 1.0875 - accuracy: 0.5904 - val_loss: 1.0603 - val_accuracy: 0.6225\n",
      "Epoch 19/30\n",
      "146/146 [==============================] - 3s 19ms/step - loss: 1.0507 - accuracy: 0.6118 - val_loss: 1.0388 - val_accuracy: 0.6006\n",
      "Epoch 20/30\n",
      "146/146 [==============================] - 3s 19ms/step - loss: 1.0174 - accuracy: 0.6120 - val_loss: 1.0006 - val_accuracy: 0.6431\n",
      "Epoch 21/30\n",
      "146/146 [==============================] - 3s 19ms/step - loss: 0.9887 - accuracy: 0.6465 - val_loss: 0.9703 - val_accuracy: 0.6669\n",
      "Epoch 22/30\n",
      "146/146 [==============================] - 3s 18ms/step - loss: 0.9540 - accuracy: 0.6566 - val_loss: 0.9437 - val_accuracy: 0.6637\n",
      "Epoch 23/30\n",
      "146/146 [==============================] - 3s 19ms/step - loss: 0.9284 - accuracy: 0.6553 - val_loss: 0.9220 - val_accuracy: 0.6624\n",
      "Epoch 24/30\n",
      "146/146 [==============================] - 3s 18ms/step - loss: 0.9013 - accuracy: 0.6735 - val_loss: 0.9040 - val_accuracy: 0.7023\n",
      "Epoch 25/30\n",
      "146/146 [==============================] - 3s 18ms/step - loss: 0.8754 - accuracy: 0.6808 - val_loss: 0.8843 - val_accuracy: 0.6746\n",
      "Epoch 26/30\n",
      "146/146 [==============================] - 3s 19ms/step - loss: 0.8543 - accuracy: 0.6840 - val_loss: 0.8643 - val_accuracy: 0.6810\n",
      "Epoch 27/30\n",
      "146/146 [==============================] - 3s 18ms/step - loss: 0.8358 - accuracy: 0.6954 - val_loss: 0.8505 - val_accuracy: 0.6913\n",
      "Epoch 28/30\n",
      "146/146 [==============================] - 3s 19ms/step - loss: 0.8166 - accuracy: 0.6952 - val_loss: 0.8382 - val_accuracy: 0.6855\n",
      "Epoch 29/30\n",
      "146/146 [==============================] - 3s 18ms/step - loss: 0.8011 - accuracy: 0.7089 - val_loss: 0.8306 - val_accuracy: 0.6804\n",
      "Epoch 30/30\n",
      "146/146 [==============================] - 3s 18ms/step - loss: 0.7838 - accuracy: 0.7046 - val_loss: 0.8106 - val_accuracy: 0.7074\n"
     ]
    }
   ],
   "source": [
    "# Train model using deep learning-fully connected layer\n",
    "model_dnn_hist_1 = model1.fit(X_train,\n",
    "                         y_train_ohe,\n",
    "                         epochs=30,\n",
    "                         validation_data=(X_test, y_test_ohe))"
   ]
  },
  {
   "cell_type": "markdown",
   "metadata": {},
   "source": [
    "Train the second model is taking so long, so I decide to make 1 epochs only because 1 epoch took 256s the accuracy is also similar to model1's first ecohs."
   ]
  },
  {
   "cell_type": "code",
   "execution_count": 38,
   "metadata": {},
   "outputs": [
    {
     "name": "stdout",
     "output_type": "stream",
     "text": [
      "146/146 [==============================] - 256s 2s/step - loss: 1.5835 - accuracy: 0.2617 - val_loss: 1.5738 - val_accuracy: 0.2733\n"
     ]
    }
   ],
   "source": [
    "# Train model using LSTM\n",
    "\n",
    "model_lstm_hist_1 = model2.fit(X_train,\n",
    "                         y_train_ohe,\n",
    "                         epochs=1,\n",
    "                         validation_data=(X_test, y_test_ohe))"
   ]
  },
  {
   "cell_type": "markdown",
   "metadata": {},
   "source": [
    "Clearly I choose first model to be improved."
   ]
  },
  {
   "cell_type": "markdown",
   "metadata": {},
   "source": [
    "# viii. Model Evaluation"
   ]
  },
  {
   "cell_type": "markdown",
   "metadata": {},
   "source": [
    "Even though I choose first model, lets see model's performance to compared it with the improved one."
   ]
  },
  {
   "cell_type": "code",
   "execution_count": 39,
   "metadata": {},
   "outputs": [
    {
     "data": {
      "text/plain": [
       "<AxesSubplot: >"
      ]
     },
     "execution_count": 39,
     "metadata": {},
     "output_type": "execute_result"
    },
    {
     "data": {
      "image/png": "[encoded data removed]",
      "text/plain": [
       "<Figure size 432x288 with 1 Axes>"
      ]
     },
     "metadata": {
      "needs_background": "light"
     },
     "output_type": "display_data"
    },
    {
     "data": {
      "image/png": "[encoded data removed]",
      "text/plain": [
       "<Figure size 432x288 with 1 Axes>"
      ]
     },
     "metadata": {
      "needs_background": "light"
     },
     "output_type": "display_data"
    }
   ],
   "source": [
    "# Create DataFrame\n",
    "metrics_1 = pd.DataFrame(model_dnn_hist_1.history)\n",
    "\n",
    "# Plot between accuracy and val_accuracy\n",
    "metrics_1[['accuracy', 'val_accuracy']].plot()\n",
    "\n",
    "# Plot between loss and val_loss\n",
    "metrics_1[['loss', 'val_loss']].plot()"
   ]
  },
  {
   "cell_type": "markdown",
   "metadata": {},
   "source": [
    "From the accuracy and loss comparison to validation set, seems that need more data or need more epochs. Highest accuracy that model reach is 70% and lowest loss score is 0.8. If we see the comparison to validation set, it show us a little bit explosion/overfit especially in accuracy, for instance at 15th epoch there is 10% explosion. Now lets improve this model."
   ]
  },
  {
   "cell_type": "markdown",
   "metadata": {},
   "source": [
    "# ix. Model Improvement"
   ]
  },
  {
   "cell_type": "markdown",
   "metadata": {},
   "source": [
    "After seeing the evaluation model also doing trial and error several time, I think that adding another layer and change the layer one to 18 neuron, layer 2 12 neuron, and not adding any dropout and batch normalization is the best and quick model."
   ]
  },
  {
   "cell_type": "code",
   "execution_count": 65,
   "metadata": {},
   "outputs": [],
   "source": [
    "# Clear session\n",
    "seed = 20\n",
    "tf.keras.backend.clear_session()\n",
    "np.random.seed(seed)\n",
    "tf.random.set_seed(seed)\n",
    "\n",
    "# Improve Sequential API using Deep learning-fully connected layer\n",
    "model_imp = Sequential()\n",
    "model_imp.add(vector)\n",
    "model_imp.add(embedding)\n",
    "model_imp.add(GlobalAveragePooling1D())\n",
    "model_imp.add(Dense(18,activation='relu'))\n",
    "model_imp.add(Dense(12,activation='relu'))\n",
    "model_imp.add(Dense(6,activation='softmax'))\n",
    "\n",
    "# Compile\n",
    "model_imp.compile(loss='categorical_crossentropy',optimizer='adam',metrics='accuracy')"
   ]
  },
  {
   "cell_type": "markdown",
   "metadata": {},
   "source": [
    "Done, now lets train the improved model. I think if adding 6 more epochs to the model will also good and not wasting time."
   ]
  },
  {
   "cell_type": "code",
   "execution_count": 66,
   "metadata": {},
   "outputs": [
    {
     "name": "stdout",
     "output_type": "stream",
     "text": [
      "Epoch 1/36\n",
      "146/146 [==============================] - 4s 21ms/step - loss: 1.6143 - accuracy: 0.2845 - val_loss: 1.4712 - val_accuracy: 0.3222\n",
      "Epoch 2/36\n",
      "146/146 [==============================] - 3s 20ms/step - loss: 1.3215 - accuracy: 0.4673 - val_loss: 1.2088 - val_accuracy: 0.5691\n",
      "Epoch 3/36\n",
      "146/146 [==============================] - 3s 19ms/step - loss: 1.0475 - accuracy: 0.6718 - val_loss: 0.9931 - val_accuracy: 0.6547\n",
      "Epoch 4/36\n",
      "146/146 [==============================] - 3s 18ms/step - loss: 0.8322 - accuracy: 0.7768 - val_loss: 0.8499 - val_accuracy: 0.7698\n",
      "Epoch 5/36\n",
      "146/146 [==============================] - 3s 18ms/step - loss: 0.6838 - accuracy: 0.8302 - val_loss: 0.7651 - val_accuracy: 0.7659\n",
      "Epoch 6/36\n",
      "146/146 [==============================] - 3s 21ms/step - loss: 0.5790 - accuracy: 0.8570 - val_loss: 0.7186 - val_accuracy: 0.7627\n",
      "Epoch 7/36\n",
      "146/146 [==============================] - 3s 20ms/step - loss: 0.4983 - accuracy: 0.8808 - val_loss: 0.6770 - val_accuracy: 0.7781\n",
      "Epoch 8/36\n",
      "146/146 [==============================] - 3s 21ms/step - loss: 0.4365 - accuracy: 0.8980 - val_loss: 0.6512 - val_accuracy: 0.7974\n",
      "Epoch 9/36\n",
      "146/146 [==============================] - 3s 20ms/step - loss: 0.3894 - accuracy: 0.9014 - val_loss: 0.6549 - val_accuracy: 0.7743\n",
      "Epoch 10/36\n",
      "146/146 [==============================] - 3s 21ms/step - loss: 0.3561 - accuracy: 0.9113 - val_loss: 0.6259 - val_accuracy: 0.8064\n",
      "Epoch 11/36\n",
      "146/146 [==============================] - 3s 20ms/step - loss: 0.3253 - accuracy: 0.9196 - val_loss: 0.6242 - val_accuracy: 0.8116\n",
      "Epoch 12/36\n",
      "146/146 [==============================] - 3s 20ms/step - loss: 0.3033 - accuracy: 0.9155 - val_loss: 0.6339 - val_accuracy: 0.7987\n",
      "Epoch 13/36\n",
      "146/146 [==============================] - 3s 21ms/step - loss: 0.2771 - accuracy: 0.9280 - val_loss: 0.6237 - val_accuracy: 0.8109\n",
      "Epoch 14/36\n",
      "146/146 [==============================] - 3s 20ms/step - loss: 0.2632 - accuracy: 0.9284 - val_loss: 0.6377 - val_accuracy: 0.8096\n",
      "Epoch 15/36\n",
      "146/146 [==============================] - 3s 21ms/step - loss: 0.2480 - accuracy: 0.9327 - val_loss: 0.6414 - val_accuracy: 0.8064\n",
      "Epoch 16/36\n",
      "146/146 [==============================] - 3s 21ms/step - loss: 0.2420 - accuracy: 0.9363 - val_loss: 0.6584 - val_accuracy: 0.8006\n",
      "Epoch 17/36\n",
      "146/146 [==============================] - 3s 21ms/step - loss: 0.2293 - accuracy: 0.9363 - val_loss: 0.6527 - val_accuracy: 0.8116\n",
      "Epoch 18/36\n",
      "146/146 [==============================] - 3s 21ms/step - loss: 0.2241 - accuracy: 0.9331 - val_loss: 0.6712 - val_accuracy: 0.8090\n",
      "Epoch 19/36\n",
      "146/146 [==============================] - 3s 21ms/step - loss: 0.2125 - accuracy: 0.9374 - val_loss: 0.7203 - val_accuracy: 0.7839\n",
      "Epoch 20/36\n",
      "146/146 [==============================] - 3s 22ms/step - loss: 0.2101 - accuracy: 0.9385 - val_loss: 0.6806 - val_accuracy: 0.8116\n",
      "Epoch 21/36\n",
      "146/146 [==============================] - 3s 21ms/step - loss: 0.2003 - accuracy: 0.9380 - val_loss: 0.7217 - val_accuracy: 0.7910\n",
      "Epoch 22/36\n",
      "146/146 [==============================] - 3s 22ms/step - loss: 0.1932 - accuracy: 0.9421 - val_loss: 0.6959 - val_accuracy: 0.8071\n",
      "Epoch 23/36\n",
      "146/146 [==============================] - 3s 21ms/step - loss: 0.1913 - accuracy: 0.9408 - val_loss: 0.7006 - val_accuracy: 0.8109\n",
      "Epoch 24/36\n",
      "146/146 [==============================] - 3s 22ms/step - loss: 0.1852 - accuracy: 0.9426 - val_loss: 0.7110 - val_accuracy: 0.8084\n",
      "Epoch 25/36\n",
      "146/146 [==============================] - 3s 21ms/step - loss: 0.1884 - accuracy: 0.9404 - val_loss: 0.7329 - val_accuracy: 0.8109\n",
      "Epoch 26/36\n",
      "146/146 [==============================] - 3s 22ms/step - loss: 0.1782 - accuracy: 0.9445 - val_loss: 0.7294 - val_accuracy: 0.8084\n",
      "Epoch 27/36\n",
      "146/146 [==============================] - 3s 21ms/step - loss: 0.1723 - accuracy: 0.9447 - val_loss: 0.7393 - val_accuracy: 0.8045\n",
      "Epoch 28/36\n",
      "146/146 [==============================] - 3s 23ms/step - loss: 0.1681 - accuracy: 0.9481 - val_loss: 0.7396 - val_accuracy: 0.8051\n",
      "Epoch 29/36\n",
      "146/146 [==============================] - 3s 21ms/step - loss: 0.1723 - accuracy: 0.9453 - val_loss: 0.7757 - val_accuracy: 0.7942\n",
      "Epoch 30/36\n",
      "146/146 [==============================] - 3s 23ms/step - loss: 0.1689 - accuracy: 0.9430 - val_loss: 0.7575 - val_accuracy: 0.8096\n",
      "Epoch 31/36\n",
      "146/146 [==============================] - 3s 21ms/step - loss: 0.1626 - accuracy: 0.9466 - val_loss: 0.7648 - val_accuracy: 0.8051\n",
      "Epoch 32/36\n",
      "146/146 [==============================] - 3s 22ms/step - loss: 0.1562 - accuracy: 0.9511 - val_loss: 0.7607 - val_accuracy: 0.8103\n",
      "Epoch 33/36\n",
      "146/146 [==============================] - 3s 21ms/step - loss: 0.1532 - accuracy: 0.9518 - val_loss: 0.8128 - val_accuracy: 0.7916\n",
      "Epoch 34/36\n",
      "146/146 [==============================] - 3s 22ms/step - loss: 0.1522 - accuracy: 0.9488 - val_loss: 0.7979 - val_accuracy: 0.8084\n",
      "Epoch 35/36\n",
      "146/146 [==============================] - 3s 21ms/step - loss: 0.1498 - accuracy: 0.9535 - val_loss: 0.7934 - val_accuracy: 0.8077\n",
      "Epoch 36/36\n",
      "146/146 [==============================] - 3s 23ms/step - loss: 0.1515 - accuracy: 0.9496 - val_loss: 0.8126 - val_accuracy: 0.8006\n"
     ]
    }
   ],
   "source": [
    "# Train improved model\n",
    "model_dnn_hist_imp = model_imp.fit(X_train,\n",
    "                         y_train_ohe,\n",
    "                         epochs=36,\n",
    "                         validation_data=(X_test, y_test_ohe))"
   ]
  },
  {
   "cell_type": "markdown",
   "metadata": {},
   "source": [
    "Now lets see the improved model performance."
   ]
  },
  {
   "cell_type": "code",
   "execution_count": 67,
   "metadata": {},
   "outputs": [
    {
     "data": {
      "text/plain": [
       "<AxesSubplot: >"
      ]
     },
     "execution_count": 67,
     "metadata": {},
     "output_type": "execute_result"
    },
    {
     "data": {
      "image/png": "[encoded data removed]",
      "text/plain": [
       "<Figure size 432x288 with 1 Axes>"
      ]
     },
     "metadata": {
      "needs_background": "light"
     },
     "output_type": "display_data"
    },
    {
     "data": {
      "image/png": "[encoded data removed]",
      "text/plain": [
       "<Figure size 432x288 with 1 Axes>"
      ]
     },
     "metadata": {
      "needs_background": "light"
     },
     "output_type": "display_data"
    }
   ],
   "source": [
    "# Create DataFrame\n",
    "metrics_imp = pd.DataFrame(model_dnn_hist_imp.history)\n",
    "\n",
    "# Plot between accuracy and val_accuracy\n",
    "metrics_imp[['accuracy', 'val_accuracy']].plot()\n",
    "\n",
    "# Plot between loss and val_loss\n",
    "metrics_imp[['loss', 'val_loss']].plot()"
   ]
  },
  {
   "cell_type": "markdown",
   "metadata": {},
   "source": [
    "Accuracy is increase to 95% but the val is still the same, it happens to loss too. From this result I conclude that this model is still overfit, there is a big gap between train and test set more than 5%."
   ]
  },
  {
   "cell_type": "markdown",
   "metadata": {},
   "source": [
    "# x. Model Saving for Inference & Deploy"
   ]
  },
  {
   "cell_type": "markdown",
   "metadata": {},
   "source": [
    "Before saving the model, we need to freeze the model first so Trainable parameter move to non trainable parameter."
   ]
  },
  {
   "cell_type": "code",
   "execution_count": 68,
   "metadata": {},
   "outputs": [
    {
     "name": "stdout",
     "output_type": "stream",
     "text": [
      "Model: \"sequential\"\n",
      "_________________________________________________________________\n",
      " Layer (type)                Output Shape              Param #   \n",
      "=================================================================\n",
      " text_vectorization (TextVec  (None, 2564)             0         \n",
      " torization)                                                     \n",
      "                                                                 \n",
      " embedding (Embedding)       (None, 2564, 32)          254432    \n",
      "                                                                 \n",
      " global_average_pooling1d (G  (None, 32)               0         \n",
      " lobalAveragePooling1D)                                          \n",
      "                                                                 \n",
      " dense (Dense)               (None, 18)                594       \n",
      "                                                                 \n",
      " dense_1 (Dense)             (None, 12)                228       \n",
      "                                                                 \n",
      " dense_2 (Dense)             (None, 6)                 78        \n",
      "                                                                 \n",
      "=================================================================\n",
      "Total params: 255,332\n",
      "Trainable params: 0\n",
      "Non-trainable params: 255,332\n",
      "_________________________________________________________________\n"
     ]
    }
   ],
   "source": [
    "# Freeze model\n",
    "\n",
    "model_imp.trainable = False\n",
    "model_imp.summary()"
   ]
  },
  {
   "cell_type": "markdown",
   "metadata": {},
   "source": [
    "Last but not least Save the improved model."
   ]
  },
  {
   "cell_type": "code",
   "execution_count": 70,
   "metadata": {},
   "outputs": [
    {
     "name": "stderr",
     "output_type": "stream",
     "text": [
      "WARNING:absl:Found untraced functions such as _update_step_xla while saving (showing 1 of 1). These functions will not be directly callable after loading.\n"
     ]
    },
    {
     "name": "stdout",
     "output_type": "stream",
     "text": [
      "INFO:tensorflow:Assets written to: classification_model\\assets\n"
     ]
    },
    {
     "name": "stderr",
     "output_type": "stream",
     "text": [
      "INFO:tensorflow:Assets written to: classification_model\\assets\n"
     ]
    }
   ],
   "source": [
    "# Save model\n",
    "\n",
    "model_imp.save('classification_model')"
   ]
  },
  {
   "cell_type": "markdown",
   "metadata": {},
   "source": [
    "# xi. Conclusion"
   ]
  },
  {
   "cell_type": "markdown",
   "metadata": {},
   "source": [
    "For conclusion, after doing this project, I found ANN model which could helping Financial's institutions to handle customer's complaints more efficiently, with a `95% accuracy prediction level`. \n",
    "\n",
    "First of all, I limit the data input from 162,400 to 10.000 due to my computer memory limitation. However, the target is imbalance. So, I need to undersampling credit reporting from 5477 to 1700. Disclaimer, all this number might be change if this notebook re-run.\n",
    "\n",
    "For preprocessing data that I use for this model is english stopwords and stemming by Porterstemmer because the data is already in lower case, no punctuation, and no number. \n",
    "\n",
    "Than I use countvectorization to see total vocab and maximum sentence length and use this information as a Textvectorization parameter. I continue to embbeding dan modeling using Dense Layer and LSTM. Sadly LSTM took 256 second to proceed 1 epochs, so I couldnt see the final accuracy from this model. Thus, I decide to improve the Dense layer by adding new layer and change the neuron to 18 and 12. I also adding a 6 epochs so total epochs for improved model is 36, and the model achieve `95% accuracy`.\n",
    "\n",
    "Business Recommendation:\n",
    "- Make an AI/bot chat based on this model so a company can response the complaints faster yet accurate, so the customer will be statisfied and the company can reduce the cost of customer service salaries.\n",
    "\n",
    "- Giving attention to credit reporting product, doing some research from competitor."
   ]
  },
  {
   "cell_type": "markdown",
   "metadata": {},
   "source": [
    "---"
   ]
  },
  {
   "cell_type": "markdown",
   "metadata": {},
   "source": [
    "$$Thank You$$"
   ]
  },
  {
   "cell_type": "markdown",
   "metadata": {},
   "source": [
    "---"
   ]
  }
 ],
 "metadata": {
  "kernelspec": {
   "display_name": "Python 3.8.8 ('base')",
   "language": "python",
   "name": "python3"
  },
  "language_info": {
   "codemirror_mode": {
    "name": "ipython",
    "version": 3
   },
   "file_extension": ".py",
   "mimetype": "text/x-python",
   "name": "python",
   "nbconvert_exporter": "python",
   "pygments_lexer": "ipython3",
   "version": "3.8.8"
  },
  "orig_nbformat": 4,
  "vscode": {
   "interpreter": {
    "hash": "c184c2dac92add11c4b4991b246963ff7fd51605869f243f3101a19a3d59e3e5"
   }
  }
 },
 "nbformat": 4,
 "nbformat_minor": 2
}
