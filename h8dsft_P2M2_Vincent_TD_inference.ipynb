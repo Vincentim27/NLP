{
  "cells": [
    {
      "cell_type": "markdown",
      "metadata": {
        "id": "chAkCUYQz4Ec"
      },
      "source": [
        "# Milestones 2 Phase 2 $Inference$"
      ]
    },
    {
      "cell_type": "markdown",
      "metadata": {},
      "source": [
        "Vincent Timothy Djaja\n",
        "RMT - 017"
      ]
    },
    {
      "cell_type": "markdown",
      "metadata": {
        "id": "BThkhFvjz6A-"
      },
      "source": [
        "## Load Model"
      ]
    },
    {
      "cell_type": "code",
      "execution_count": 5,
      "metadata": {
        "colab": {
          "base_uri": "https://localhost:8080/"
        },
        "id": "uYdLiZWkzpXZ",
        "outputId": "75a37449-458b-40f4-bc5c-e06b8c3f1b45"
      },
      "outputs": [],
      "source": [
        "# Load the Models\n",
        "\n",
        "import pandas as pd\n",
        "import numpy as np\n",
        "from tensorflow.keras.models import load_model\n",
        "\n",
        "model = load_model('classification_model')"
      ]
    },
    {
      "cell_type": "markdown",
      "metadata": {
        "id": "xwpYMF6e0UAo"
      },
      "source": [
        "## Inference"
      ]
    },
    {
      "cell_type": "code",
      "execution_count": 6,
      "metadata": {
        "colab": {
          "base_uri": "https://localhost:8080/",
          "height": 81
        },
        "id": "wqdyfF5-0V2M",
        "outputId": "2b410639-21a6-44f1-e9ba-1a82164674ac"
      },
      "outputs": [
        {
          "data": {
            "text/html": [
              "<div>\n",
              "<style scoped>\n",
              "    .dataframe tbody tr th:only-of-type {\n",
              "        vertical-align: middle;\n",
              "    }\n",
              "\n",
              "    .dataframe tbody tr th {\n",
              "        vertical-align: top;\n",
              "    }\n",
              "\n",
              "    .dataframe thead th {\n",
              "        text-align: right;\n",
              "    }\n",
              "</style>\n",
              "<table border=\"1\" class=\"dataframe\">\n",
              "  <thead>\n",
              "    <tr style=\"text-align: right;\">\n",
              "      <th></th>\n",
              "      <th>Unnamed: 0</th>\n",
              "      <th>product</th>\n",
              "      <th>narrative</th>\n",
              "    </tr>\n",
              "  </thead>\n",
              "  <tbody>\n",
              "    <tr>\n",
              "      <th>100011</th>\n",
              "      <td>100011</td>\n",
              "      <td>mortgages_and_loans</td>\n",
              "      <td>loan relatively new loan refinanced va loan es...</td>\n",
              "    </tr>\n",
              "  </tbody>\n",
              "</table>\n",
              "</div>"
            ],
            "text/plain": [
              "        Unnamed: 0              product  \\\n",
              "100011      100011  mortgages_and_loans   \n",
              "\n",
              "                                                narrative  \n",
              "100011  loan relatively new loan refinanced va loan es...  "
            ]
          },
          "execution_count": 6,
          "metadata": {},
          "output_type": "execute_result"
        }
      ],
      "source": [
        "# Load dataset\n",
        "\n",
        "df_ori = pd.read_csv('complaints_processed.csv').iloc[100011:100012]\n",
        "df_inf = df_ori.copy()\n",
        "df_inf"
      ]
    },
    {
      "cell_type": "code",
      "execution_count": 14,
      "metadata": {},
      "outputs": [
        {
          "name": "stdout",
          "output_type": "stream",
          "text": [
            "loan relatively new loan refinanced va loan escrow account lender required pay home owner insurance property tax received property tax delinquent notice winter tax lender attributed timing loan sure paid either previous lender current lender either way get paid received another property tax delinquent notice next round property tax due lender lakeview loan servicing llc\n"
          ]
        }
      ],
      "source": [
        "print(df_inf.narrative[100011])"
      ]
    },
    {
      "cell_type": "code",
      "execution_count": 8,
      "metadata": {},
      "outputs": [],
      "source": [
        "# Drop unnecessary column\n",
        "df_inf.drop(['Unnamed: 0','product'],axis=1,inplace=True)"
      ]
    },
    {
      "cell_type": "code",
      "execution_count": 16,
      "metadata": {
        "colab": {
          "base_uri": "https://localhost:8080/"
        },
        "id": "bNrc7rWC1boA",
        "outputId": "8cc7e382-e6de-478e-fde8-73c9ad5648ad"
      },
      "outputs": [
        {
          "name": "stdout",
          "output_type": "stream",
          "text": [
            "1/1 [==============================] - 0s 21ms/step\n"
          ]
        },
        {
          "data": {
            "text/plain": [
              "array([5], dtype=int64)"
            ]
          },
          "execution_count": 16,
          "metadata": {},
          "output_type": "execute_result"
        }
      ],
      "source": [
        "# Predict using Neural Network\n",
        "y_pred_inf = model.predict(df_inf).argmax(axis=1)\n",
        "y_pred_inf"
      ]
    },
    {
      "cell_type": "markdown",
      "metadata": {},
      "source": [
        "In notebook model, my classification is :\n",
        "\n",
        "```\n",
        "df['target'] = df['product'].replace({'debt_collection' : 1,  \n",
        "                                      'credit_reporting' : 2,  \n",
        "                                       'credit_card' : 3, \n",
        "                                      'retail_banking' : 4, \n",
        "                                      'mortgages_and_loans' : 5\n",
        "                                      })\n",
        "```\n",
        "\n",
        "So `5` is representing motgages_and_loand, and if we see the data original :                             "
      ]
    },
    {
      "cell_type": "code",
      "execution_count": 20,
      "metadata": {},
      "outputs": [
        {
          "name": "stdout",
          "output_type": "stream",
          "text": [
            "100011    mortgages_and_loans\n",
            "Name: product, dtype: object\n"
          ]
        }
      ],
      "source": [
        "# Show the result\n",
        "print(df_ori['product'])"
      ]
    },
    {
      "cell_type": "markdown",
      "metadata": {},
      "source": [
        "Thus, my model can predict this inference dataset `correctly`."
      ]
    },
    {
      "cell_type": "markdown",
      "metadata": {},
      "source": [
        "---"
      ]
    }
  ],
  "metadata": {
    "colab": {
      "provenance": []
    },
    "gpuClass": "standard",
    "kernelspec": {
      "display_name": "Python 3.8.8 ('base')",
      "language": "python",
      "name": "python3"
    },
    "language_info": {
      "codemirror_mode": {
        "name": "ipython",
        "version": 3
      },
      "file_extension": ".py",
      "mimetype": "text/x-python",
      "name": "python",
      "nbconvert_exporter": "python",
      "pygments_lexer": "ipython3",
      "version": "3.8.8"
    },
    "vscode": {
      "interpreter": {
        "hash": "c184c2dac92add11c4b4991b246963ff7fd51605869f243f3101a19a3d59e3e5"
      }
    }
  },
  "nbformat": 4,
  "nbformat_minor": 0
}
